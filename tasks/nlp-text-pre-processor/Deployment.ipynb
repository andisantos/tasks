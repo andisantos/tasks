{
 "cells": [
  {
   "cell_type": "markdown",
   "metadata": {},
   "source": [
    "# Text Pre Processor - Implantação\n",
    "\n",
    "Este é um componente que utiliza a biblioteca [nltk](https://www.nltk.org/) e [ftfy](https://pypi.org/project/ftfy/) e [regex](https://docs.python.org/3/library/re.html) para pré processar textos que entrrão em outros componentes.\n",
    "\n",
    "Este notebook apresenta:\n",
    "- como usar o [SDK](https://platiagro.github.io/sdk/) para carregar datasets, salvar modelos e outros artefatos.\n",
    "- como declarar parâmetros e usá-los para criar componentes reutilizáveis.\n",
    "\n",
    "### **Em caso de dúvidas, consulte os [tutoriais da PlatIAgro](https://platiagro.github.io/tutorials/).**"
   ]
  },
  {
   "cell_type": "markdown",
   "metadata": {},
   "source": [
    "## Declaração de Classe para Predições em Tempo Real\n",
    "\n",
    "A tarefa de implantação cria um serviço REST para predições em tempo-real.<br>\n",
    "Para isso você deve criar uma classe `Model` que implementa o método `predict`."
   ]
  },
  {
   "cell_type": "code",
   "execution_count": 31,
   "metadata": {},
   "outputs": [
    {
     "name": "stdout",
     "output_type": "stream",
     "text": [
      "--2020-10-23 12:40:32--  https://raw.githubusercontent.com/platiagro/tasks/main/tasks/nlp-text-pre-processor/pre_processor.py\n",
      "Resolving raw.githubusercontent.com (raw.githubusercontent.com)... 151.101.92.133\n",
      "Connecting to raw.githubusercontent.com (raw.githubusercontent.com)|151.101.92.133|:443... connected.\n",
      "HTTP request sent, awaiting response... 200 OK\n",
      "Length: 5554 (5.4K) [text/plain]\n",
      "Saving to: ‘pre_processor.py.3’\n",
      "\n",
      "pre_processor.py.3  100%[===================>]   5.42K  --.-KB/s    in 0s      \n",
      "\n",
      "2020-10-23 12:40:33 (36.2 MB/s) - ‘pre_processor.py.3’ saved [5554/5554]\n",
      "\n"
     ]
    }
   ],
   "source": [
    "!wget https://raw.githubusercontent.com/platiagro/tasks/main/tasks/nlp-text-pre-processor/pre_processor.py"
   ]
  },
  {
   "cell_type": "code",
   "execution_count": 35,
   "metadata": {},
   "outputs": [
    {
     "name": "stdout",
     "output_type": "stream",
     "text": [
      "Overwriting Model.py\n"
     ]
    }
   ],
   "source": [
    "%%writefile Model.py\n",
    "import joblib\n",
    "import nltk\n",
    "import pandas as pd\n",
    "import numpy as np\n",
    "from pre_processor import Preprocessor\n",
    "\n",
    "\n",
    "class Model:\n",
    "    def __init__(self):\n",
    "        artifacts = joblib.load(\"/tmp/data/preprocessor.joblib\")\n",
    "        self.preprocessing_tasks = artifacts[\"preprocessing_tasks\"]\n",
    "        self.model_parameters = artifacts[\"model_parameters\"]\n",
    "        self.columns = artifacts[\"columns\"]\n",
    "         \n",
    "    def class_names(self):\n",
    "        return ['text']\n",
    "\n",
    "    def predict(self, X, feature_names, meta=None):\n",
    "        if feature_names:\n",
    "            # Antes de utilizar o conjunto de dados X no modelo, reordena suas features de acordo com a ordem utilizada no treinamento\n",
    "            df = pd.DataFrame(X, columns=feature_names)\n",
    "            data = df[self.columns]\n",
    "        \n",
    "        preprocessor = Preprocessor(self.preprocessing_tasks,self.model_parameters)\n",
    "        texts = preprocessor.preprocess(X)\n",
    "        result = []\n",
    "        for text in texts:\n",
    "            result.append([text])\n",
    "        return np.array(result)"
   ]
  },
  {
   "cell_type": "markdown",
   "metadata": {},
   "source": [
    "## Teste do serviço REST\n",
    "\n",
    "Crie um arquivo `contract.json` com os seguintes atributos:\n",
    "\n",
    "- `features` : A lista de features em uma requisição.\n",
    "- `targets` : A lista de valores retornados pelo método `predict`.\n",
    "\n",
    "Cada `feature` pode conter as seguintes informações:\n",
    "\n",
    "- `name` : nome da feature\n",
    "- `ftype` : tipo da feature : **continuous** ou **categorical**\n",
    "- `dtype` : tipo de dado : **FLOAT** ou **INT** : *obrigatório para ftype continuous*\n",
    "- `range` : intervalo de valores numéricos : *obrigatório para ftype continuous*\n",
    "- `values` : lista de valores categóricos : *obrigatório para ftype categorical*\n",
    "\n",
    "Em seguida, utilize a função `test_deployment` do [SDK da PlatIAgro](https://platiagro.github.io/sdk/) para simular predição em tempo-real.<br>"
   ]
  },
  {
   "cell_type": "code",
   "execution_count": 36,
   "metadata": {},
   "outputs": [
    {
     "name": "stdout",
     "output_type": "stream",
     "text": [
      "Overwriting contract.json\n"
     ]
    }
   ],
   "source": [
    "%%writefile contract.json\n",
    "{\n",
    "    \"features\": [\n",
    "        {\n",
    "            \"name\": \"review\",\n",
    "            \"ftype\": \"categorical\",\n",
    "            \"values\": [\"How are you doing?\"]\n",
    "        }\n",
    "    ],\n",
    "    \"targets\": []\n",
    "}"
   ]
  },
  {
   "cell_type": "code",
   "execution_count": 37,
   "metadata": {},
   "outputs": [
    {
     "name": "stdout",
     "output_type": "stream",
     "text": [
      "----------------------------------------\n",
      "SENDING NEW REQUEST:\n",
      "\n",
      "[['How are you doing?']]\n",
      "RECEIVED RESPONSE:\n",
      "meta {\n",
      "}\n",
      "data {\n",
      "  names: \"t:0\"\n",
      "  ndarray {\n",
      "    values {\n",
      "      list_value {\n",
      "        values {\n",
      "          string_value: \"how are you doing\"\n",
      "        }\n",
      "      }\n",
      "    }\n",
      "  }\n",
      "}\n",
      "\n",
      "\n",
      "2020-10-23 12:42:13.768416: W tensorflow/stream_executor/platform/default/dso_loader.cc:59] Could not load dynamic library 'libcudart.so.10.1'; dlerror: libcudart.so.10.1: cannot open shared object file: No such file or directory\n",
      "2020-10-23 12:42:13.768474: I tensorflow/stream_executor/cuda/cudart_stub.cc:29] Ignore above cudart dlerror if you do not have a GPU set up on your machine.\n",
      "2020-10-23 12:42:18,119 - seldon_core.microservice:main:190 - INFO:  Starting microservice.py:main\n",
      "2020-10-23 12:42:18,122 - seldon_core.microservice:main:246 - INFO:  Parse JAEGER_EXTRA_TAGS []\n",
      "2020-10-23 12:42:18,123 - seldon_core.microservice:main:254 - DEBUG:  Log level set to DEBUG:10\n",
      "2020-10-23 12:42:18,123 - seldon_core.microservice:main:257 - INFO:  Annotations: {}\n",
      "2020-10-23 12:42:18,123 - seldon_core.microservice:main:261 - INFO:  Importing Model\n",
      "2020-10-23 12:42:19,230 - seldon_core.microservice:main:325 - INFO:  REST microservice running on port 8318\n",
      "2020-10-23 12:42:19,231 - seldon_core.microservice:main:369 - INFO:  Starting servers\n",
      "2020-10-23 12:42:19,346 - werkzeug:_log:113 - INFO:   * Running on http://0.0.0.0:8318/ (Press CTRL+C to quit)\n",
      "2020-10-23 12:42:27,123 - werkzeug:_log:113 - INFO:  127.0.0.1 - - [23/Oct/2020 12:42:27] \"\u001b[37mGET /health/ping HTTP/1.1\u001b[0m\" 200 -\n",
      "2020-10-23 12:42:27,212 - seldon_core.wrapper:Predict:47 - DEBUG:  REST Request: <Request 'http://localhost:8318/predict' [POST]>\n",
      "2020-10-23 12:42:31,961 - seldon_core.user_model:client_class_names:166 - INFO:  class_names is not implemented\n",
      "2020-10-23 12:42:31,962 - seldon_core.user_model:client_custom_tags:134 - INFO:  custom_tags is not implemented\n",
      "2020-10-23 12:42:31,962 - seldon_core.user_model:client_custom_tags:134 - INFO:  custom_tags is not implemented\n",
      "2020-10-23 12:42:31,962 - seldon_core.user_model:client_custom_metrics:307 - INFO:  custom_metrics is not implemented\n",
      "2020-10-23 12:42:31,962 - seldon_core.wrapper:Predict:53 - DEBUG:  REST Response: {'data': {'ndarray': [['how are you doing']], 'names': ['t:0']}, 'meta': {}}\n",
      "2020-10-23 12:42:31,963 - werkzeug:_log:113 - INFO:  127.0.0.1 - - [23/Oct/2020 12:42:31] \"\u001b[37mPOST /predict HTTP/1.1\u001b[0m\" 200 -\n",
      "\n"
     ]
    }
   ],
   "source": [
    "from platiagro.deployment import test_deployment\n",
    "\n",
    "test_deployment(\"contract.json\")"
   ]
  }
 ],
 "metadata": {
  "celltoolbar": "Tags",
  "experiment_id": "c114f6ba-2bc1-43c7-823d-00360c37f88a",
  "kernelspec": {
   "display_name": "Python 3",
   "language": "python",
   "name": "python3"
  },
  "language_info": {
   "codemirror_mode": {
    "name": "ipython",
    "version": 3
   },
   "file_extension": ".py",
   "mimetype": "text/x-python",
   "name": "python",
   "nbconvert_exporter": "python",
   "pygments_lexer": "ipython3",
   "version": "3.7.8"
  },
  "operator_id": "b9f242c9-4d5d-4c5f-b30d-c63425281213",
  "task_id": "abe6f2d9-53fd-456a-8654-697cd35d3109"
 },
 "nbformat": 4,
 "nbformat_minor": 4
}
