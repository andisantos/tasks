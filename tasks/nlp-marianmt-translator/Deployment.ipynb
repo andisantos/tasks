{
 "cells": [
  {
   "cell_type": "markdown",
   "metadata": {},
   "source": [
    "#  Tradução de Textos - Implantação\n",
    "## Utilização do modelo [MarianMT](https://huggingface.co/transformers/model_doc/marian.html) para tradução. \n",
    "\n",
    "\n",
    "* Neste exempo a tradução é feito do inglês para o português, mas ela pode ser feita em qualquer uma das línguas suportadas pelo MarianMT. \n",
    "* Para adaptar para traduções em outras línguas é necessário verificacar se há o modelo pré treinado disponível no MarianMT e adaptar o truncamento de strings do [spacy](https://spacy.io/usage/models) para o idioma desejado\n",
    "* A métrica computada é o [sacrebleu](https://https://github.com/mjpost/sacrebleu) \n",
    "\n",
    "\n",
    "Preencha aqui com detalhes sobre a tarefa.<br>\n",
    "### **Em caso de dúvidas, consulte os [tutoriais da PlatIAgro](https://platiagro.github.io/tutorials/).**"
   ]
  },
  {
   "cell_type": "markdown",
   "metadata": {},
   "source": [
    "## Declaração de Classe para Predições em Tempo Real\n",
    "\n",
    "A tarefa de implantação cria um serviço REST para predições em tempo-real.<br>\n",
    "Para isso você deve criar uma classe `Model` que implementa o método `predict`."
   ]
  },
  {
   "cell_type": "code",
   "execution_count": 1,
   "metadata": {},
   "outputs": [
    {
     "name": "stdout",
     "output_type": "stream",
     "text": [
      "--2020-10-27 14:49:38--  https://raw.githubusercontent.com/platiagro/tasks/main/tasks/nlp-marianmt-translator/marianmt_model.py\n",
      "Resolving raw.githubusercontent.com (raw.githubusercontent.com)... 151.101.92.133\n",
      "Connecting to raw.githubusercontent.com (raw.githubusercontent.com)|151.101.92.133|:443... connected.\n",
      "HTTP request sent, awaiting response... 200 OK\n",
      "Length: 6628 (6.5K) [text/plain]\n",
      "Saving to: ‘marianmt_model.py’\n",
      "\n",
      "marianmt_model.py   100%[===================>]   6.47K  --.-KB/s    in 0.004s  \n",
      "\n",
      "2020-10-27 14:49:38 (1.70 MB/s) - ‘marianmt_model.py’ saved [6628/6628]\n",
      "\n"
     ]
    }
   ],
   "source": [
    "!wget https://raw.githubusercontent.com/platiagro/tasks/main/tasks/nlp-marianmt-translator/marianmt_model.py"
   ]
  },
  {
   "cell_type": "code",
   "execution_count": 2,
   "metadata": {},
   "outputs": [
    {
     "name": "stdout",
     "output_type": "stream",
     "text": [
      "Writing model.py\n"
     ]
    }
   ],
   "source": [
    "%%writefile model.py\n",
    "import joblib\n",
    "import pandas as pd\n",
    "import numpy as np\n",
    "from marianmt_model import MarianMTTranslator\n",
    "\n",
    "\n",
    "class Model:\n",
    "    def __init__(self):\n",
    "        artifacts = joblib.load(\"/tmp/data/ocr.joblib\")\n",
    "        self.hyperparams = artifacts[\"hyperparams\"]\n",
    "        self.model_params = artifacts[\"model_params\"]\n",
    "        self.columns = artifacts[\"columns\"]\n",
    "    \n",
    "    def predict(self, X, feature_names, meta=None):\n",
    "\n",
    "        model = MarianMTTranslator(self.hyperparams,self.model_params)\n",
    "        y = model.predict(X)\n",
    "        return y"
   ]
  },
  {
   "cell_type": "markdown",
   "metadata": {},
   "source": [
    "## Teste do serviço REST\n",
    "\n",
    "Crie um arquivo `contract.json` com os seguintes atributos:\n",
    "\n",
    "- `features` : A lista de features em uma requisição.\n",
    "- `targets` : A lista de valores retornados pelo método `predict`.\n",
    "\n",
    "Cada `feature` pode conter as seguintes informações:\n",
    "\n",
    "- `name` : nome da feature\n",
    "- `ftype` : tipo da feature : **continuous** ou **categorical**\n",
    "- `dtype` : tipo de dado : **FLOAT** ou **INT** : *obrigatório para ftype continuous*\n",
    "- `range` : intervalo de valores numéricos : *obrigatório para ftype continuous*\n",
    "- `values` : lista de valores categóricos : *obrigatório para ftype categorical*\n",
    "\n",
    "Em seguida, utilize a função `test_deployment` do [SDK da PlatIAgro](https://platiagro.github.io/sdk/) para simular predição em tempo-real.<br>"
   ]
  },
  {
   "cell_type": "code",
   "execution_count": 5,
   "metadata": {},
   "outputs": [
    {
     "name": "stdout",
     "output_type": "stream",
     "text": [
      "Overwriting contract.json\n"
     ]
    }
   ],
   "source": [
    "# %%writefile contract.json\n",
    "# {\n",
    "#     \"features\": [\n",
    "#         {\n",
    "#             \"name\": \"text\",\n",
    "#             \"ftype\": \"categorical\",\n",
    "#             \"values\": [\"There are many levels of perversity at play. And yet it is transfixing.\"]\n",
    "#         },\n",
    "#     ],\n",
    "#     \"targets\": []\n",
    "# }"
   ]
  },
  {
   "cell_type": "code",
   "execution_count": 7,
   "metadata": {},
   "outputs": [],
   "source": [
    "# from platiagro.deployment import test_deployment\n",
    "\n",
    "# test_deployment(\"contract.json\")"
   ]
  }
 ],
 "metadata": {
  "celltoolbar": "Tags",
  "experiment_id": "ddfb6ed8-0a39-4f48-b1f6-acc1f3c70a97",
  "kernelspec": {
   "display_name": "Python 3",
   "language": "python",
   "name": "python3"
  },
  "language_info": {
   "codemirror_mode": {
    "name": "ipython",
    "version": 3
   },
   "file_extension": ".py",
   "mimetype": "text/x-python",
   "name": "python",
   "nbconvert_exporter": "python",
   "pygments_lexer": "ipython3",
   "version": "3.7.8"
  },
  "operator_id": "fed79198-d26f-4f2b-854c-c840c810d06c",
  "task_id": "e0ecc209-919e-4ce5-8be2-d81bed7aa299"
 },
 "nbformat": 4,
 "nbformat_minor": 4
}
